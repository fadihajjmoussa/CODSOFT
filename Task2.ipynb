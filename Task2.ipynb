{
 "cells": [
  {
   "cell_type": "code",
   "execution_count": 6,
   "id": "50bd9f47",
   "metadata": {},
   "outputs": [],
   "source": [
    "import tkinter as tk\n",
    "\n",
    "def add_to_display(character):\n",
    "    current_text = display_var.get()\n",
    "    if current_text == \"Error\" or (current_text and current_text[0] == '-' and current_text[1:].isdigit()):\n",
    "        display_var.set(character)  \n",
    "    else:\n",
    "        if current_text == \"0\":\n",
    "            display_var.set(character)\n",
    "        else:\n",
    "            display_var.set(current_text + character)\n",
    "\n",
    "def clear_display():\n",
    "    display_var.set(\"0\")\n",
    "\n",
    "def calculate():\n",
    "    expression = display_var.get()\n",
    "    try:\n",
    "        result = eval(expression)\n",
    "        display_var.set(str(result))\n",
    "    except Exception as e:\n",
    "        display_var.set(\"Error\")\n",
    "\n",
    "root = tk.Tk()\n",
    "root.title(\"Calculator\")\n",
    "\n",
    "display_var = tk.StringVar(root, \"0\")\n",
    "display = tk.Entry(root, textvariable=display_var, font=('Arial', 14), bd=10, insertwidth=4, width=15, justify=\"right\")\n",
    "display.grid(row=0, column=0, columnspan=4)\n",
    "\n",
    "buttons = [\n",
    "    ('7', 1, 0), ('8', 1, 1), ('9', 1, 2), ('/', 1, 3),\n",
    "    ('4', 2, 0), ('5', 2, 1), ('6', 2, 2), ('*', 2, 3),\n",
    "    ('1', 3, 0), ('2', 3, 1), ('3', 3, 2), ('-', 3, 3),\n",
    "    ('0', 4, 0), ('C', 4, 1), ('=', 4, 2), ('+', 4, 3)\n",
    "]\n",
    "\n",
    "for (text, row, col) in buttons:\n",
    "    if text == 'C':\n",
    "        button = tk.Button(root, text=text, font=('Arial', 14), bd=8, padx=20, pady=10, command=clear_display)\n",
    "    elif text == '=':\n",
    "        button = tk.Button(root, text=text, font=('Arial', 14), bd=8, padx=20, pady=10, command=calculate)\n",
    "    else:\n",
    "        button = tk.Button(root, text=text, font=('Arial', 14), bd=8, padx=20, pady=10, command=lambda t=text: add_to_display(t))\n",
    "    button.grid(row=row, column=col)\n",
    "\n",
    "root.mainloop()\n"
   ]
  },
  {
   "cell_type": "code",
   "execution_count": null,
   "id": "5fc94061",
   "metadata": {},
   "outputs": [],
   "source": []
  },
  {
   "cell_type": "code",
   "execution_count": null,
   "id": "3e87e1b4",
   "metadata": {},
   "outputs": [],
   "source": []
  }
 ],
 "metadata": {
  "kernelspec": {
   "display_name": "Python 3 (ipykernel)",
   "language": "python",
   "name": "python3"
  },
  "language_info": {
   "codemirror_mode": {
    "name": "ipython",
    "version": 3
   },
   "file_extension": ".py",
   "mimetype": "text/x-python",
   "name": "python",
   "nbconvert_exporter": "python",
   "pygments_lexer": "ipython3",
   "version": "3.9.13"
  }
 },
 "nbformat": 4,
 "nbformat_minor": 5
}
