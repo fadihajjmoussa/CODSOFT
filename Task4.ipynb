{
 "cells": [
  {
   "cell_type": "code",
   "execution_count": null,
   "id": "ec2a6f23",
   "metadata": {},
   "outputs": [],
   "source": [
    "import random\n",
    "import tkinter as tk\n",
    "from tkinter import messagebox\n",
    "\n",
    "def get_computer_choice():\n",
    "    return random.choice(['rock', 'paper', 'scissors'])\n",
    "\n",
    "def determine_winner(user_choice, computer_choice):\n",
    "    if user_choice == computer_choice:\n",
    "        return \"It's a tie!\"\n",
    "    elif (user_choice == 'rock' and computer_choice == 'scissors') or \\\n",
    "         (user_choice == 'scissors' and computer_choice == 'paper') or \\\n",
    "         (user_choice == 'paper' and computer_choice == 'rock'):\n",
    "        return \"You win!\"\n",
    "    else:\n",
    "        return \"Computer wins!\"\n",
    "\n",
    "def play_game(user_choice):\n",
    "    computer_choice = get_computer_choice()\n",
    "    result = determine_winner(user_choice, computer_choice)\n",
    "    messagebox.showinfo(\"Result\", f\"Computer's choice: {computer_choice}\\n{result}\")\n",
    "\n",
    "def main():\n",
    "    window = tk.Tk()\n",
    "    window.title(\"Rock-Paper-Scissors Game\")\n",
    "\n",
    "    label = tk.Label(window, text=\"Choose rock, paper, or scissors:\")\n",
    "    label.pack()\n",
    "\n",
    "    choices = ['rock', 'paper', 'scissors']\n",
    "    for choice in choices:\n",
    "        button = tk.Button(window, text=choice.capitalize(), command=lambda choice=choice: play_game(choice))\n",
    "        button.pack()\n",
    "\n",
    "    window.mainloop()\n",
    "\n",
    "if __name__ == \"__main__\":\n",
    "    main()\n"
   ]
  },
  {
   "cell_type": "code",
   "execution_count": null,
   "id": "afe709ba",
   "metadata": {},
   "outputs": [],
   "source": []
  }
 ],
 "metadata": {
  "kernelspec": {
   "display_name": "Python 3 (ipykernel)",
   "language": "python",
   "name": "python3"
  },
  "language_info": {
   "codemirror_mode": {
    "name": "ipython",
    "version": 3
   },
   "file_extension": ".py",
   "mimetype": "text/x-python",
   "name": "python",
   "nbconvert_exporter": "python",
   "pygments_lexer": "ipython3",
   "version": "3.9.13"
  }
 },
 "nbformat": 4,
 "nbformat_minor": 5
}
